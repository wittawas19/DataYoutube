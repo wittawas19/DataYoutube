{
 "cells": [
  {
   "cell_type": "code",
   "execution_count": 17,
   "metadata": {},
   "outputs": [
    {
     "data": {
      "text/html": [
       "<div>\n",
       "<style scoped>\n",
       "    .dataframe tbody tr th:only-of-type {\n",
       "        vertical-align: middle;\n",
       "    }\n",
       "\n",
       "    .dataframe tbody tr th {\n",
       "        vertical-align: top;\n",
       "    }\n",
       "\n",
       "    .dataframe thead th {\n",
       "        text-align: right;\n",
       "    }\n",
       "</style>\n",
       "<table border=\"1\" class=\"dataframe\">\n",
       "  <thead>\n",
       "    <tr style=\"text-align: right;\">\n",
       "      <th></th>\n",
       "      <th>title</th>\n",
       "      <th>trending_date</th>\n",
       "      <th>sumDay</th>\n",
       "      <th>id</th>\n",
       "    </tr>\n",
       "  </thead>\n",
       "  <tbody>\n",
       "    <tr>\n",
       "      <th>0</th>\n",
       "      <td>2017 Screenies Awards! - The Best &amp; Worst in M...</td>\n",
       "      <td>['18.16.01', '18.17.01', '18.18.01', '18.19.01...</td>\n",
       "      <td>10</td>\n",
       "      <td>1</td>\n",
       "    </tr>\n",
       "    <tr>\n",
       "      <th>1</th>\n",
       "      <td>360 Google Doodles/Spotlight Stories: Back to ...</td>\n",
       "      <td>['18.04.05', '18.05.05', '18.06.05', '18.07.05...</td>\n",
       "      <td>12</td>\n",
       "      <td>1</td>\n",
       "    </tr>\n",
       "    <tr>\n",
       "      <th>2</th>\n",
       "      <td>81. I'm not good enough.</td>\n",
       "      <td>['17.01.12', '17.02.12', '17.03.12', '17.04.12...</td>\n",
       "      <td>6</td>\n",
       "      <td>1</td>\n",
       "    </tr>\n",
       "    <tr>\n",
       "      <th>3</th>\n",
       "      <td>83. You + Me</td>\n",
       "      <td>['18.30.01', '18.31.01', '18.01.02', '18.02.02...</td>\n",
       "      <td>7</td>\n",
       "      <td>1</td>\n",
       "    </tr>\n",
       "    <tr>\n",
       "      <th>4</th>\n",
       "      <td>A Boogie Wit Da Hoodie - Somebody feat. Don Q ...</td>\n",
       "      <td>['18.02.02', '18.03.02', '18.04.02', '18.05.02...</td>\n",
       "      <td>28</td>\n",
       "      <td>1</td>\n",
       "    </tr>\n",
       "    <tr>\n",
       "      <th>...</th>\n",
       "      <td>...</td>\n",
       "      <td>...</td>\n",
       "      <td>...</td>\n",
       "      <td>...</td>\n",
       "    </tr>\n",
       "    <tr>\n",
       "      <th>1328</th>\n",
       "      <td>Yerry Mina’s first training session with FC Ba...</td>\n",
       "      <td>['18.14.01', '18.15.01', '18.16.01', '18.17.01']</td>\n",
       "      <td>4</td>\n",
       "      <td>17</td>\n",
       "    </tr>\n",
       "    <tr>\n",
       "      <th>1329</th>\n",
       "      <td>Zion Williamson OFFICIAL Senior Year Mixtape!!...</td>\n",
       "      <td>['18.24.03', '18.25.03', '18.26.03', '18.27.03...</td>\n",
       "      <td>12</td>\n",
       "      <td>17</td>\n",
       "    </tr>\n",
       "    <tr>\n",
       "      <th>1330</th>\n",
       "      <td>Zwift on Apple TV: Everything you need to know...</td>\n",
       "      <td>['17.26.11', '17.27.11', '17.28.11', '17.29.11...</td>\n",
       "      <td>5</td>\n",
       "      <td>17</td>\n",
       "    </tr>\n",
       "    <tr>\n",
       "      <th>1331</th>\n",
       "      <td>‘Disrespected’ Stipe Miocic Feels UFC Wants Fr...</td>\n",
       "      <td>['18.17.01', '18.18.01', '18.19.01']</td>\n",
       "      <td>3</td>\n",
       "      <td>17</td>\n",
       "    </tr>\n",
       "    <tr>\n",
       "      <th>1332</th>\n",
       "      <td>【Live】WRESTLE KINGDOM 12 IN TOKYO DOME: Press ...</td>\n",
       "      <td>['17.13.12', '17.14.12', '17.15.12', '17.16.12...</td>\n",
       "      <td>14</td>\n",
       "      <td>17</td>\n",
       "    </tr>\n",
       "  </tbody>\n",
       "</table>\n",
       "<p>1333 rows × 4 columns</p>\n",
       "</div>"
      ],
      "text/plain": [
       "                                                  title  \\\n",
       "0     2017 Screenies Awards! - The Best & Worst in M...   \n",
       "1     360 Google Doodles/Spotlight Stories: Back to ...   \n",
       "2                              81. I'm not good enough.   \n",
       "3                                          83. You + Me   \n",
       "4     A Boogie Wit Da Hoodie - Somebody feat. Don Q ...   \n",
       "...                                                 ...   \n",
       "1328  Yerry Mina’s first training session with FC Ba...   \n",
       "1329  Zion Williamson OFFICIAL Senior Year Mixtape!!...   \n",
       "1330  Zwift on Apple TV: Everything you need to know...   \n",
       "1331  ‘Disrespected’ Stipe Miocic Feels UFC Wants Fr...   \n",
       "1332  【Live】WRESTLE KINGDOM 12 IN TOKYO DOME: Press ...   \n",
       "\n",
       "                                          trending_date  sumDay  id  \n",
       "0     ['18.16.01', '18.17.01', '18.18.01', '18.19.01...      10   1  \n",
       "1     ['18.04.05', '18.05.05', '18.06.05', '18.07.05...      12   1  \n",
       "2     ['17.01.12', '17.02.12', '17.03.12', '17.04.12...       6   1  \n",
       "3     ['18.30.01', '18.31.01', '18.01.02', '18.02.02...       7   1  \n",
       "4     ['18.02.02', '18.03.02', '18.04.02', '18.05.02...      28   1  \n",
       "...                                                 ...     ...  ..  \n",
       "1328   ['18.14.01', '18.15.01', '18.16.01', '18.17.01']       4  17  \n",
       "1329  ['18.24.03', '18.25.03', '18.26.03', '18.27.03...      12  17  \n",
       "1330  ['17.26.11', '17.27.11', '17.28.11', '17.29.11...       5  17  \n",
       "1331               ['18.17.01', '18.18.01', '18.19.01']       3  17  \n",
       "1332  ['17.13.12', '17.14.12', '17.15.12', '17.16.12...      14  17  \n",
       "\n",
       "[1333 rows x 4 columns]"
      ]
     },
     "execution_count": 17,
     "metadata": {},
     "output_type": "execute_result"
    }
   ],
   "source": [
    "import pandas as pd\n",
    "import numpy as np\n",
    "from scipy import spatial\n",
    "from sklearn.metrics.pairwise import cosine_similarity \n",
    "from sklearn.feature_extraction.text import CountVectorizer\n",
    "cols = [\"title\",\"trending_date\",\"sumDay\",\"id\"]\n",
    "data = pd.read_csv(\"data1.csv\",encoding=\"utf-8\",usecols=cols)\n",
    "#df = pd.DataFrame(data)\n",
    "data"
   ]
  },
  {
   "cell_type": "code",
   "execution_count": 18,
   "metadata": {},
   "outputs": [],
   "source": [
    "dataCat = [] \n",
    "g1 = data.groupby('id')"
   ]
  },
  {
   "cell_type": "code",
   "execution_count": null,
   "metadata": {},
   "outputs": [],
   "source": []
  },
  {
   "cell_type": "code",
   "execution_count": 19,
   "metadata": {},
   "outputs": [
    {
     "data": {
      "text/plain": [
       "array([[0, 0, 0, ..., 0, 0, 0],\n",
       "       [0, 0, 0, ..., 0, 0, 0],\n",
       "       [0, 0, 0, ..., 0, 0, 0],\n",
       "       ...,\n",
       "       [0, 0, 0, ..., 1, 1, 0],\n",
       "       [3, 0, 0, ..., 0, 0, 0],\n",
       "       [0, 0, 0, ..., 0, 0, 0]], dtype=int64)"
      ]
     },
     "execution_count": 19,
     "metadata": {},
     "output_type": "execute_result"
    }
   ],
   "source": [
    "cv = CountVectorizer(max_features=5000,stop_words='english')\n",
    "vector = cv.fit_transform(g1.get_group(17)['trending_date']).toarray()\n",
    "vector\n"
   ]
  },
  {
   "cell_type": "code",
   "execution_count": 20,
   "metadata": {},
   "outputs": [
    {
     "data": {
      "text/plain": [
       "array([[1.        , 0.04761905, 0.96019206, ..., 0.88273483, 0.12598816,\n",
       "        0.50279011],\n",
       "       [0.04761905, 1.        , 0.080016  , ..., 0.        , 0.50395263,\n",
       "        0.19902108],\n",
       "       [0.96019206, 0.080016  , 1.        , ..., 0.927057  , 0.22934432,\n",
       "        0.55443699],\n",
       "       ...,\n",
       "       [0.88273483, 0.        , 0.927057  , ..., 1.        , 0.12974982,\n",
       "        0.49191196],\n",
       "       [0.12598816, 0.50395263, 0.22934432, ..., 0.12974982, 1.        ,\n",
       "        0.184758  ],\n",
       "       [0.50279011, 0.19902108, 0.55443699, ..., 0.49191196, 0.184758  ,\n",
       "        1.        ]])"
      ]
     },
     "execution_count": 20,
     "metadata": {},
     "output_type": "execute_result"
    }
   ],
   "source": [
    "similarity = cosine_similarity(vector)\n",
    "similarity"
   ]
  },
  {
   "cell_type": "markdown",
   "metadata": {},
   "source": []
  },
  {
   "cell_type": "code",
   "execution_count": 21,
   "metadata": {},
   "outputs": [
    {
     "data": {
      "text/plain": [
       "2"
      ]
     },
     "execution_count": 21,
     "metadata": {},
     "output_type": "execute_result"
    }
   ],
   "source": [
    "data[data[\"title\"] == '''81. I'm not good enough.''' ].index[0]\n",
    "video = ['hen Curry might be thinking about picking GiannisWhy Step at the NBA All-Star Game | ESPN','Zion Williamson OFFICIAL Senior Year Mixtape!!! CERTIFIED High School LEGEND!!!' ,'‘Disrespected’ Stipe Miocic Feels UFC Wants Francis Ngannou to Beat Him'] \n",
    "\n",
    "df = g1.get_group(1)['title'] == 'A Boogie Wit Da Hoodie - Somebody feat. Don Q [Official Music Video]'\n",
    "def getIndex(id ,name) : \n",
    "    index = 0 \n",
    "    for ele in g1.get_group(id)['title'] :\n",
    "        if  ele == name :\n",
    "            return index\n",
    "        index += 1 \n",
    "nameV = '''81. I'm not good enough.'''\n",
    "getIndex(1 , nameV)\n",
    "\n",
    "\n",
    "\n"
   ]
  },
  {
   "cell_type": "code",
   "execution_count": 22,
   "metadata": {},
   "outputs": [
    {
     "name": "stdout",
     "output_type": "stream",
     "text": [
      "Why Stephen Curry might be thinking about picking Giannis at the NBA All-Star Game | ESPN\n",
      "Zion Williamson OFFICIAL Senior Year Mixtape!!! CERTIFIED High School LEGEND!!!\n",
      "‘Disrespected’ Stipe Miocic Feels UFC Wants Francis Ngannou to Beat Him\n",
      "[None, None, None]\n"
     ]
    }
   ],
   "source": [
    "videoIndex = [] \n",
    "for i in range(0 ,len(video)) : \n",
    "        videoIndex.append(getIndex(1 ,video[i])) \n",
    "        print(video[i])\n",
    "print(videoIndex)"
   ]
  },
  {
   "cell_type": "code",
   "execution_count": 23,
   "metadata": {},
   "outputs": [
    {
     "data": {
      "text/plain": [
       "[(174, 0.966091783079296),\n",
       " (64, 0.9380831519646858),\n",
       " (196, 0.9380831519646858),\n",
       " (8, 0.9309493362512627),\n",
       " (75, 0.9258200997725516)]"
      ]
     },
     "execution_count": 23,
     "metadata": {},
     "output_type": "execute_result"
    }
   ],
   "source": [
    "sorted(list(enumerate(similarity[215])),reverse = True ,key = lambda x:x[1])[1:6]"
   ]
  },
  {
   "cell_type": "code",
   "execution_count": 24,
   "metadata": {},
   "outputs": [
    {
     "name": "stdout",
     "output_type": "stream",
     "text": [
      "[215, 218, 220]\n",
      "[(174, 0.966091783079296), (64, 0.9380831519646858), (196, 0.9380831519646858), (8, 0.9309493362512627)]\n",
      "[(202, 0.992874018477696), (129, 0.9811276979634243), (30, 0.9587771423141846), (68, 0.9307483189571635)]\n",
      "[(131, 0.9772545497599155), (7, 0.9703028940457659), (88, 0.9678053386344172), (158, 0.9678053386344172)]\n"
     ]
    }
   ],
   "source": [
    "def getIndex(id ,name) : \n",
    "    index = 0 \n",
    "    for ele in g1.get_group(id)['title'] :\n",
    "        if  ele == name :\n",
    "            return index\n",
    "        index += 1 \n",
    "\n",
    "    \n",
    "def recommend( id , listVideo) :\n",
    "    videoIndex = []\n",
    "    dis = []\n",
    "    recVideo = []  \n",
    "    vector = cv.fit_transform(g1.get_group(id)['trending_date']).toarray()\n",
    "    similarity = cosine_similarity(vector)\n",
    "    for i in range(0 ,len(listVideo)) : \n",
    "        videoIndex.append(getIndex(id ,listVideo[i])) \n",
    "    print(videoIndex)\n",
    "    for j  in range(0 , len(videoIndex)) :\n",
    "        dis.append(similarity[videoIndex[j]])\n",
    "        recVideo.append(sorted(list(enumerate(dis[j])),reverse = True ,key = lambda x:x[1])[1:5])\n",
    "\n",
    "    for k  in recVideo : \n",
    "        print(k)    \n",
    "   \n",
    "recommend( 17,video)"
   ]
  }
 ],
 "metadata": {
  "interpreter": {
   "hash": "fc3a1080ac41145ad4d155786f890ee3ef8a05a322ddf78ebbc47cb02a6ca8c5"
  },
  "kernelspec": {
   "display_name": "Python 3.9.6 64-bit",
   "name": "python3"
  },
  "language_info": {
   "codemirror_mode": {
    "name": "ipython",
    "version": 3
   },
   "file_extension": ".py",
   "mimetype": "text/x-python",
   "name": "python",
   "nbconvert_exporter": "python",
   "pygments_lexer": "ipython3",
   "version": "3.9.6"
  },
  "orig_nbformat": 4
 },
 "nbformat": 4,
 "nbformat_minor": 2
}
