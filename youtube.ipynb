{
 "cells": [
  {
   "cell_type": "code",
   "execution_count": 1,
   "metadata": {},
   "outputs": [
    {
     "data": {
      "text/html": [
       "<div>\n",
       "<style scoped>\n",
       "    .dataframe tbody tr th:only-of-type {\n",
       "        vertical-align: middle;\n",
       "    }\n",
       "\n",
       "    .dataframe tbody tr th {\n",
       "        vertical-align: top;\n",
       "    }\n",
       "\n",
       "    .dataframe thead th {\n",
       "        text-align: right;\n",
       "    }\n",
       "</style>\n",
       "<table border=\"1\" class=\"dataframe\">\n",
       "  <thead>\n",
       "    <tr style=\"text-align: right;\">\n",
       "      <th></th>\n",
       "      <th>video_id</th>\n",
       "      <th>title</th>\n",
       "      <th>category_id</th>\n",
       "      <th>trending_date</th>\n",
       "    </tr>\n",
       "  </thead>\n",
       "  <tbody>\n",
       "    <tr>\n",
       "      <th>0</th>\n",
       "      <td>-Hz00xRLPyo</td>\n",
       "      <td>JUSTICE LEAGUE Official Blu-ray Trailer #1 (20...</td>\n",
       "      <td>1</td>\n",
       "      <td>['18.19.01', '18.20.01', '18.21.01', '18.22.01...</td>\n",
       "    </tr>\n",
       "    <tr>\n",
       "      <th>1</th>\n",
       "      <td>-KeFvjm_hcA</td>\n",
       "      <td>Top 10 Lame Things To Do At Disney World</td>\n",
       "      <td>1</td>\n",
       "      <td>['18.01.04']</td>\n",
       "    </tr>\n",
       "    <tr>\n",
       "      <th>2</th>\n",
       "      <td>-QPdRfqTnt4</td>\n",
       "      <td>Dumbo Official Teaser Trailer</td>\n",
       "      <td>1</td>\n",
       "      <td>['18.14.06']</td>\n",
       "    </tr>\n",
       "    <tr>\n",
       "      <th>3</th>\n",
       "      <td>-z2EqJTyAiU</td>\n",
       "      <td>Dimitri Vegas &amp; Like Mike vs Steve Aoki ft Abi...</td>\n",
       "      <td>1</td>\n",
       "      <td>['17.28.12', '17.29.12', '17.30.12', '17.31.12...</td>\n",
       "    </tr>\n",
       "    <tr>\n",
       "      <th>4</th>\n",
       "      <td>07w3u8iLa-s</td>\n",
       "      <td>I guess I'll talk about Ready Player One</td>\n",
       "      <td>1</td>\n",
       "      <td>['18.14.04', '18.15.04', '18.16.04', '18.17.04...</td>\n",
       "    </tr>\n",
       "    <tr>\n",
       "      <th>...</th>\n",
       "      <td>...</td>\n",
       "      <td>...</td>\n",
       "      <td>...</td>\n",
       "      <td>...</td>\n",
       "    </tr>\n",
       "    <tr>\n",
       "      <th>3351</th>\n",
       "      <td>zN_DJ3c2N28</td>\n",
       "      <td>Hank Reviews Everything</td>\n",
       "      <td>22</td>\n",
       "      <td>['17.14.11', '17.15.11']</td>\n",
       "    </tr>\n",
       "    <tr>\n",
       "      <th>3352</th>\n",
       "      <td>zX1_qEVop0Q</td>\n",
       "      <td>CHRISTMAS GIFT GUIDE | CYBER WEEKEND SHOPPING ...</td>\n",
       "      <td>22</td>\n",
       "      <td>['17.28.11', '17.29.11', '17.30.11', '17.01.12...</td>\n",
       "    </tr>\n",
       "    <tr>\n",
       "      <th>3353</th>\n",
       "      <td>zslYmBRhdOM</td>\n",
       "      <td>It's Ok To Feel Sad At Christmas // Vlogmas Day 7</td>\n",
       "      <td>22</td>\n",
       "      <td>['17.08.12', '17.09.12', '17.10.12', '17.11.12...</td>\n",
       "    </tr>\n",
       "    <tr>\n",
       "      <th>3354</th>\n",
       "      <td>zslYmBRhdOM</td>\n",
       "      <td>It's Ok To Feel Sad At Christmas // Vlogmas Da...</td>\n",
       "      <td>22</td>\n",
       "      <td>['17.15.12', '17.16.12', '17.17.12', '17.18.12...</td>\n",
       "    </tr>\n",
       "    <tr>\n",
       "      <th>3355</th>\n",
       "      <td>zxwfDlhJIpw</td>\n",
       "      <td>kanye west / charlamagne interview</td>\n",
       "      <td>22</td>\n",
       "      <td>['18.02.05', '18.03.05', '18.04.05', '18.05.05...</td>\n",
       "    </tr>\n",
       "  </tbody>\n",
       "</table>\n",
       "<p>3356 rows × 4 columns</p>\n",
       "</div>"
      ],
      "text/plain": [
       "         video_id                                              title  \\\n",
       "0     -Hz00xRLPyo  JUSTICE LEAGUE Official Blu-ray Trailer #1 (20...   \n",
       "1     -KeFvjm_hcA           Top 10 Lame Things To Do At Disney World   \n",
       "2     -QPdRfqTnt4                      Dumbo Official Teaser Trailer   \n",
       "3     -z2EqJTyAiU  Dimitri Vegas & Like Mike vs Steve Aoki ft Abi...   \n",
       "4     07w3u8iLa-s           I guess I'll talk about Ready Player One   \n",
       "...           ...                                                ...   \n",
       "3351  zN_DJ3c2N28                            Hank Reviews Everything   \n",
       "3352  zX1_qEVop0Q  CHRISTMAS GIFT GUIDE | CYBER WEEKEND SHOPPING ...   \n",
       "3353  zslYmBRhdOM  It's Ok To Feel Sad At Christmas // Vlogmas Day 7   \n",
       "3354  zslYmBRhdOM  It's Ok To Feel Sad At Christmas // Vlogmas Da...   \n",
       "3355  zxwfDlhJIpw                 kanye west / charlamagne interview   \n",
       "\n",
       "      category_id                                      trending_date  \n",
       "0               1  ['18.19.01', '18.20.01', '18.21.01', '18.22.01...  \n",
       "1               1                                       ['18.01.04']  \n",
       "2               1                                       ['18.14.06']  \n",
       "3               1  ['17.28.12', '17.29.12', '17.30.12', '17.31.12...  \n",
       "4               1  ['18.14.04', '18.15.04', '18.16.04', '18.17.04...  \n",
       "...           ...                                                ...  \n",
       "3351           22                           ['17.14.11', '17.15.11']  \n",
       "3352           22  ['17.28.11', '17.29.11', '17.30.11', '17.01.12...  \n",
       "3353           22  ['17.08.12', '17.09.12', '17.10.12', '17.11.12...  \n",
       "3354           22  ['17.15.12', '17.16.12', '17.17.12', '17.18.12...  \n",
       "3355           22  ['18.02.05', '18.03.05', '18.04.05', '18.05.05...  \n",
       "\n",
       "[3356 rows x 4 columns]"
      ]
     },
     "execution_count": 1,
     "metadata": {},
     "output_type": "execute_result"
    }
   ],
   "source": [
    "import pandas as pd\n",
    "import numpy as np\n",
    "from scipy import spatial\n",
    "from sklearn.metrics.pairwise import cosine_similarity \n",
    "from sklearn.feature_extraction.text import CountVectorizer\n",
    "cols = [\"video_id\",\"title\",\"category_id\",\"trending_date\",]\n",
    "data = pd.read_csv(\"data1.csv\",encoding=\"utf-8\",usecols=cols)\n",
    "data"
   ]
  },
  {
   "cell_type": "code",
   "execution_count": 2,
   "metadata": {},
   "outputs": [
    {
     "data": {
      "text/plain": [
       "(3356, 31)"
      ]
     },
     "execution_count": 2,
     "metadata": {},
     "output_type": "execute_result"
    }
   ],
   "source": [
    "from sklearn.feature_extraction.text import CountVectorizer\n",
    "cv = CountVectorizer(max_features=5000,stop_words='english')\n",
    "vector = cv.fit_transform(data['trending_date']).toarray()\n",
    "vector.shape"
   ]
  },
  {
   "cell_type": "code",
   "execution_count": 3,
   "metadata": {},
   "outputs": [
    {
     "data": {
      "text/plain": [
       "array([[1.        , 0.8       , 0.4       , ..., 0.        , 0.08520129,\n",
       "        0.54083269],\n",
       "       [0.8       , 1.        , 0.33333333, ..., 0.        , 0.06085806,\n",
       "        0.46225016],\n",
       "       [0.4       , 0.33333333, 1.        , ..., 0.05292561, 0.06085806,\n",
       "        0.54314394],\n",
       "       ...,\n",
       "       [0.        , 0.        , 0.05292561, ..., 1.        , 0.93729651,\n",
       "        0.04036704],\n",
       "       [0.08520129, 0.06085806, 0.06085806, ..., 0.93729651, 1.        ,\n",
       "        0.11182331],\n",
       "       [0.54083269, 0.46225016, 0.54314394, ..., 0.04036704, 0.11182331,\n",
       "        1.        ]])"
      ]
     },
     "execution_count": 3,
     "metadata": {},
     "output_type": "execute_result"
    }
   ],
   "source": [
    "from sklearn.metrics.pairwise import cosine_similarity\n",
    "similarity = cosine_similarity(vector)\n",
    "similarity"
   ]
  },
  {
   "cell_type": "code",
   "execution_count": 4,
   "metadata": {},
   "outputs": [
    {
     "data": {
      "text/plain": [
       "0        True\n",
       "1        True\n",
       "2        True\n",
       "3        True\n",
       "4        True\n",
       "        ...  \n",
       "3351    False\n",
       "3352    False\n",
       "3353    False\n",
       "3354    False\n",
       "3355    False\n",
       "Name: category_id, Length: 3356, dtype: bool"
      ]
     },
     "execution_count": 4,
     "metadata": {},
     "output_type": "execute_result"
    }
   ],
   "source": [
    "\n",
    "video = ['Top 10 Lame Things To Do At Disney World','Dimitri Vegas & Like Mike vs Steve Aoki ft Abigail Breslin – We Are Legend','Christopher Robin Official Trailer'] \n",
    "data['category_id'] == 1"
   ]
  },
  {
   "cell_type": "code",
   "execution_count": 5,
   "metadata": {},
   "outputs": [],
   "source": [
    "def recommend(movie):\n",
    "    index = data[data['title'] == movie].index[0]\n",
    "    distances = sorted(list(enumerate(similarity[index])),reverse=True,key = lambda x: x[1])\n",
    "    for i in distances[1:6]:\n",
    "        print(data.iloc[i[0]])\n",
    "\n",
    "#recommend('Terminal Trailer #1 (2018) | Movieclips Trailers') \n",
    "\n"
   ]
  },
  {
   "cell_type": "code",
   "execution_count": 6,
   "metadata": {},
   "outputs": [],
   "source": [
    "videoInCat1 = 'JUSTICE LEAGUE Official Blu-ray Trailer #1 (2017) DC Superhero Movie HD'\n",
    "videoInCat24 = 'Kim Possible Theme Song Dance' \n",
    "\n",
    "#สร้าง DataFrame โดยให้ Category id เป็นอันเดียวกัน\n",
    "df = data[data['category_id'] == 24]\n",
    "\n",
    "# หา index จาก DataFrame ที่สร้างใหม่เพื่อดูว่าอยู่ใน Category id เดียวกันไหม\n",
    "index = df[df['title'] == videoInCat24 ].index[0]\n",
    "distances = sorted(list(enumerate(similarity[index])),reverse=True,key = lambda x: x[1])\n"
   ]
  },
  {
   "cell_type": "code",
   "execution_count": 7,
   "metadata": {},
   "outputs": [
    {
     "name": "stdout",
     "output_type": "stream",
     "text": [
      "Top 10 Lame Things To Do At Disney World\n",
      "_JbpTEtGTz8\n",
      "24-AhdoN_Nk\n",
      "I6YQz96PYvw\n",
      "lERhNXw6FaQ\n",
      "mTf3Dcj5NPU\n",
      "Dimitri Vegas & Like Mike vs Steve Aoki ft Abigail Breslin – We Are Legend\n",
      "LmOPXhFensg\n",
      "lERhNXw6FaQ\n",
      "24-AhdoN_Nk\n",
      "HzILu6yyA20\n",
      "Oa9c9JBBGxM\n",
      "Christopher Robin Official Trailer\n",
      "CE7SkcoyVAI\n",
      "x1QroTKqG8c\n",
      "3uGIEY7tdg8\n",
      "ILDMJavIY-k\n",
      "fAIX12F6958\n"
     ]
    }
   ],
   "source": [
    "# เลือก Category id ของ video และรับ list ของ video มา Recommend\n",
    "def listRecommend(id , listVideo) : \n",
    "    df = data[data['category_id'] == id ]\n",
    "    #สร้าง vector จาก DataFrame ที่มี Category id เดียวกัน \n",
    "    vector = cv.fit_transform(df['trending_date']).toarray()\n",
    "    similarity = cosine_similarity(vector)\n",
    "    for video in listVideo :\n",
    "        print(video)\n",
    "        index = df[df['title'] == video].index[0]\n",
    "        distances = sorted(list(enumerate(similarity[index])),reverse=True,key = lambda x: x[1])\n",
    "        for i in distances[1:6]:\n",
    "            print(data.iloc[i[0]].video_id)\n",
    "        \n",
    "listRecommend(1 , video)    \n",
    "    "
   ]
  }
 ],
 "metadata": {
  "interpreter": {
   "hash": "fc3a1080ac41145ad4d155786f890ee3ef8a05a322ddf78ebbc47cb02a6ca8c5"
  },
  "kernelspec": {
   "display_name": "Python 3.9.6 64-bit",
   "name": "python3"
  },
  "language_info": {
   "codemirror_mode": {
    "name": "ipython",
    "version": 3
   },
   "file_extension": ".py",
   "mimetype": "text/x-python",
   "name": "python",
   "nbconvert_exporter": "python",
   "pygments_lexer": "ipython3",
   "version": "3.9.6"
  },
  "orig_nbformat": 4
 },
 "nbformat": 4,
 "nbformat_minor": 2
}
