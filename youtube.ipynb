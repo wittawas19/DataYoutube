{
 "cells": [
  {
   "cell_type": "code",
   "execution_count": 460,
   "metadata": {},
   "outputs": [
    {
     "data": {
      "text/plain": [
       "(3356, 4)"
      ]
     },
     "execution_count": 460,
     "metadata": {},
     "output_type": "execute_result"
    }
   ],
   "source": [
    "import pandas as pd\n",
    "import numpy as np\n",
    "from scipy import spatial\n",
    "from sklearn.metrics.pairwise import cosine_similarity \n",
    "from sklearn.feature_extraction.text import CountVectorizer\n",
    "cols = [\"video_id\",\"title\",\"category_id\",\"trending_date\",]\n",
    "data = pd.read_csv(\"data1.csv\",encoding=\"utf-8\",usecols=cols)\n",
    "data.shape"
   ]
  },
  {
   "cell_type": "code",
   "execution_count": 461,
   "metadata": {},
   "outputs": [
    {
     "data": {
      "text/plain": [
       "(3356, 31)"
      ]
     },
     "execution_count": 461,
     "metadata": {},
     "output_type": "execute_result"
    }
   ],
   "source": [
    "from sklearn.feature_extraction.text import CountVectorizer\n",
    "cv = CountVectorizer(max_features=5000,stop_words='english')\n",
    "vector = cv.fit_transform(data['trending_date']).toarray()\n",
    "vector.shape"
   ]
  },
  {
   "cell_type": "code",
   "execution_count": 462,
   "metadata": {},
   "outputs": [
    {
     "data": {
      "text/plain": [
       "array([[1.        , 0.8       , 0.4       , ..., 0.        , 0.08520129,\n",
       "        0.54083269],\n",
       "       [0.8       , 1.        , 0.33333333, ..., 0.        , 0.06085806,\n",
       "        0.46225016],\n",
       "       [0.4       , 0.33333333, 1.        , ..., 0.05292561, 0.06085806,\n",
       "        0.54314394],\n",
       "       ...,\n",
       "       [0.        , 0.        , 0.05292561, ..., 1.        , 0.93729651,\n",
       "        0.04036704],\n",
       "       [0.08520129, 0.06085806, 0.06085806, ..., 0.93729651, 1.        ,\n",
       "        0.11182331],\n",
       "       [0.54083269, 0.46225016, 0.54314394, ..., 0.04036704, 0.11182331,\n",
       "        1.        ]])"
      ]
     },
     "execution_count": 462,
     "metadata": {},
     "output_type": "execute_result"
    }
   ],
   "source": [
    "from sklearn.metrics.pairwise import cosine_similarity\n",
    "similarity = cosine_similarity(vector)\n",
    "similarity"
   ]
  },
  {
   "cell_type": "code",
   "execution_count": 464,
   "metadata": {},
   "outputs": [],
   "source": [
    "def recommend(movie):\n",
    "    index = data[data['title'] == movie].index[0]\n",
    "    distances = sorted(list(enumerate(similarity[index])),reverse=True,key = lambda x: x[1])\n",
    "    #print(distances)\n",
    "    #for i in distances[1:6]:\n",
    "        #print(data.iloc[i[0]])\n",
    "\n",
    "#recommend('Terminal Trailer #1 (2018) | Movieclips Trailers') \n",
    "\n"
   ]
  },
  {
   "cell_type": "code",
   "execution_count": 465,
   "metadata": {},
   "outputs": [
    {
     "data": {
      "text/plain": [
       "(14, 4)"
      ]
     },
     "execution_count": 465,
     "metadata": {},
     "output_type": "execute_result"
    }
   ],
   "source": [
    "\n",
    "videoInCat24 = 'Kim Possible Theme Song Dance' \n",
    "\n",
    "#สร้าง DataFrame โดยให้ Category id เป็นอันเดียวกัน\n",
    "df = data[data['category_id'] == 24]\n",
    "\n",
    "# หา index จาก DataFrame ที่สร้างใหม่เพื่อดูว่าอยู่ใน Category id เดียวกันไหม\n",
    "index = df[df['title'] == videoInCat24 ].index[0]\n",
    "distances = sorted(list(enumerate(similarity[index])),reverse=True,key = lambda x: x[1])\n"
   ]
  },
  {
   "cell_type": "code",
   "execution_count": 466,
   "metadata": {},
   "outputs": [
    {
     "name": "stdout",
     "output_type": "stream",
     "text": [
      "['0uJUW24505E', 'BJeCOo_CRyE', 'JVDyowAzBrU', 'Gc71AmT_b2k']\n"
     ]
    }
   ],
   "source": [
    "# เลือก Category id ของ video และรับ list ของ video มา Recommend\n",
    "def listRecommend(id , listVideo) : \n",
    "    df = data[data['category_id'] == id ]\n",
    "   \n",
    "    listOfdata = []\n",
    "    \n",
    "    df.reset_index(drop=True , inplace= True)  \n",
    "    \n",
    "    #สร้าง vector จาก DataFrame ที่มี Category id เดียวกัน \n",
    "    vector = cv.fit_transform(df['trending_date']).toarray()\n",
    "    similarity = cosine_similarity(vector)\n",
    "    \n",
    "    for video in listVideo :\n",
    "        \n",
    "        index = df[df['video_id'] == video].index[0]\n",
    "        \n",
    "        distances = sorted(list(enumerate(similarity[index])),reverse=True,key = lambda x: x[1])\n",
    "       \n",
    "       \n",
    "        for i in distances[1:5]:\n",
    "            if i[1] > 0.8 : \n",
    "                listOfdata.append(df.iloc[i[0]].video_id)\n",
    "    return listOfdata\n",
    "\n"
   ]
  },
  {
   "cell_type": "code",
   "execution_count": 467,
   "metadata": {},
   "outputs": [
    {
     "data": {
      "text/html": [
       "<div>\n",
       "<style scoped>\n",
       "    .dataframe tbody tr th:only-of-type {\n",
       "        vertical-align: middle;\n",
       "    }\n",
       "\n",
       "    .dataframe tbody tr th {\n",
       "        vertical-align: top;\n",
       "    }\n",
       "\n",
       "    .dataframe thead th {\n",
       "        text-align: right;\n",
       "    }\n",
       "</style>\n",
       "<table border=\"1\" class=\"dataframe\">\n",
       "  <thead>\n",
       "    <tr style=\"text-align: right;\">\n",
       "      <th></th>\n",
       "      <th>video_id</th>\n",
       "      <th>title</th>\n",
       "      <th>views</th>\n",
       "      <th>likes</th>\n",
       "      <th>dislikes</th>\n",
       "    </tr>\n",
       "  </thead>\n",
       "  <tbody>\n",
       "    <tr>\n",
       "      <th>194</th>\n",
       "      <td>Tl_Qfj8780M</td>\n",
       "      <td>Milck - Quiet [Official Video]</td>\n",
       "      <td>213094</td>\n",
       "      <td>2951</td>\n",
       "      <td>339</td>\n",
       "    </tr>\n",
       "  </tbody>\n",
       "</table>\n",
       "</div>"
      ],
      "text/plain": [
       "        video_id                           title   views  likes  dislikes\n",
       "194  Tl_Qfj8780M  Milck - Quiet [Official Video]  213094   2951       339"
      ]
     },
     "execution_count": 467,
     "metadata": {},
     "output_type": "execute_result"
    }
   ],
   "source": [
    "#data_set = pd.read_csv('GBvideos.csv',encoding='utf-8',usecols=['video_id','title','channel_title','comment_count','views','likes','dislikes','description'])\n",
    "dataforTest = \"nR3OdeqiEF8\"\n",
    "dataname = 'Tl_Qfj8780M'\n",
    "data_set = pd.read_csv('GBvideos.csv',encoding='utf-8',usecols=['title','video_id','views','likes','dislikes'])\n",
    "df1 =  data_set[data_set['video_id'] == dataname ]\n",
    "df1"
   ]
  },
  {
   "cell_type": "code",
   "execution_count": 468,
   "metadata": {},
   "outputs": [
    {
     "name": "stdout",
     "output_type": "stream",
     "text": [
      "                         views  likes - dislikes\n",
      "views             4.378682e+06      46421.333333\n",
      "likes - dislikes  4.642133e+04        492.333333\n",
      "46421.333333333336\n"
     ]
    },
    {
     "name": "stderr",
     "output_type": "stream",
     "text": [
      "C:\\Users\\witta\\AppData\\Local\\Temp/ipykernel_20312/390104902.py:4: SettingWithCopyWarning: \n",
      "A value is trying to be set on a copy of a slice from a DataFrame.\n",
      "Try using .loc[row_indexer,col_indexer] = value instead\n",
      "\n",
      "See the caveats in the documentation: https://pandas.pydata.org/pandas-docs/stable/user_guide/indexing.html#returning-a-view-versus-a-copy\n",
      "  data1['likes - dislikes'] = data1.likes - data1.dislikes\n"
     ]
    }
   ],
   "source": [
    "def find_covariance(video) :\n",
    "    data_set = pd.read_csv('GBvideos.csv',encoding='utf-8',usecols=['video_id','views','likes','dislikes'])\n",
    "    data1 = data_set[data_set[\"video_id\"] == video]\n",
    "    data1['likes - dislikes'] = data1.likes - data1.dislikes\n",
    "    buffer = data1.drop(columns=['video_id','likes','dislikes']) \n",
    "    co = buffer.cov() \n",
    "    print(co) \n",
    "    return(co['likes - dislikes'][0])  \n",
    "print(find_covariance(dataforTest)) "
   ]
  },
  {
   "cell_type": "code",
   "execution_count": 469,
   "metadata": {},
   "outputs": [],
   "source": [
    "\n",
    "def videoidToTitle(listvideo) : \n",
    "     lst = [] \n",
    "     for video in listvideo : \n",
    "        index = data[data['video_id'] == video].index[0] \n",
    "        #print(index)\n",
    "        lst.append(data.iloc[index].title) \n",
    "     return lst\n",
    "\n"
   ]
  },
  {
   "cell_type": "code",
   "execution_count": 470,
   "metadata": {},
   "outputs": [
    {
     "name": "stdout",
     "output_type": "stream",
     "text": [
      "1\n",
      "[video_id                                               Gc71AmT_b2k\n",
      "title                                Bazzi - Mine (Official Video)\n",
      "channel_title                                                Bazzi\n",
      "category_id                                                     10\n",
      "views                                                       326554\n",
      "likes                                                        35355\n",
      "dislikes                                                       181\n",
      "comment_count                                                 3003\n",
      "description      Stream + download Mine: https://Bazzi.lnk.to/M...\n",
      "Name: 15604, dtype: object]\n"
     ]
    }
   ],
   "source": [
    "test = ['Gc71AmT_b2k'] \n",
    "def idToEverything(listvideo) : \n",
    "    lst = []\n",
    "    data_set = pd.read_csv('GBvideos.csv',encoding='utf-8',usecols=['video_id','title','channel_title',\"category_id\",'comment_count','views','likes','dislikes','description'])  \n",
    "    for video in listvideo : \n",
    "       index = data_set[data_set['video_id'] == video].index[0] \n",
    "       lst.append(data_set.iloc[index])\n",
    "    return lst\n",
    "\n",
    "c =  idToEverything(test) \n",
    "print(len(c))  \n",
    "print(c)  "
   ]
  }
 ],
 "metadata": {
  "interpreter": {
   "hash": "fc3a1080ac41145ad4d155786f890ee3ef8a05a322ddf78ebbc47cb02a6ca8c5"
  },
  "kernelspec": {
   "display_name": "Python 3.9.6 64-bit",
   "name": "python3"
  },
  "language_info": {
   "codemirror_mode": {
    "name": "ipython",
    "version": 3
   },
   "file_extension": ".py",
   "mimetype": "text/x-python",
   "name": "python",
   "nbconvert_exporter": "python",
   "pygments_lexer": "ipython3",
   "version": "3.9.6"
  },
  "orig_nbformat": 4
 },
 "nbformat": 4,
 "nbformat_minor": 2
}
